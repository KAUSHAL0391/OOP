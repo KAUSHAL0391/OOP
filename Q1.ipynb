{
 "cells": [
  {
   "cell_type": "markdown",
   "metadata": {},
   "source": [
    "Q1 A"
   ]
  },
  {
   "cell_type": "code",
   "execution_count": 1,
   "metadata": {},
   "outputs": [
    {
     "name": "stdout",
     "output_type": "stream",
     "text": [
      "Is s instance of student? True\n",
      "Is s instance of marks? False\n",
      "Is m instance of student? False\n",
      "Is m instance of marks? True\n",
      "Check whether classes are subclasses of built in objects:\n",
      "True\n",
      "True\n"
     ]
    }
   ],
   "source": [
    "class student:\n",
    "  pass\n",
    "class marks:\n",
    "  pass\n",
    "s=student()\n",
    "m=marks()\n",
    "print(f\"Is s instance of student? {isinstance(s,student)}\")\n",
    "print(f\"Is s instance of marks? {isinstance(s,marks)}\")\n",
    "print(f\"Is m instance of student? {isinstance(m,student)}\")\n",
    "print(f\"Is m instance of marks? {isinstance(m,marks)}\")\n",
    "print(\"Check whether classes are subclasses of built in objects:\")\n",
    "print(issubclass(student,object))\n",
    "print(issubclass(marks,object))"
   ]
  },
  {
   "cell_type": "markdown",
   "metadata": {},
   "source": [
    "Q1 B"
   ]
  },
  {
   "cell_type": "code",
   "execution_count": 2,
   "metadata": {},
   "outputs": [
    {
     "name": "stdout",
     "output_type": "stream",
     "text": [
      "(2 + i3) + (4 + i2) = 6 + i5\n"
     ]
    }
   ],
   "source": [
    "class COMPLEX:\n",
    "    def __init__(self, real_part, img_part):\n",
    "        self.real_part = real_part\n",
    "        self.img_part = img_part\n",
    "    def add(self, other):\n",
    "        res_real = self.real_part + other.real_part\n",
    "        res_img = self.img_part + other.img_part\n",
    "        print(f\"({self.real_part} + i{self.img_part}) + ({other.real_part} + i{other.img_part}) = {res_real} + i{res_img}\")\n",
    "a = COMPLEX(2, 3)\n",
    "b = COMPLEX(4, 2)\n",
    "a.add(b)"
   ]
  }
 ],
 "metadata": {
  "kernelspec": {
   "display_name": "Python 3",
   "language": "python",
   "name": "python3"
  },
  "language_info": {
   "codemirror_mode": {
    "name": "ipython",
    "version": 3
   },
   "file_extension": ".py",
   "mimetype": "text/x-python",
   "name": "python",
   "nbconvert_exporter": "python",
   "pygments_lexer": "ipython3",
   "version": "3.11.2"
  }
 },
 "nbformat": 4,
 "nbformat_minor": 2
}
