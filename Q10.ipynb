{
 "cells": [
  {
   "cell_type": "code",
   "execution_count": 1,
   "metadata": {},
   "outputs": [
    {
     "name": "stdout",
     "output_type": "stream",
     "text": [
      "1\n",
      "A\n",
      "B\n",
      "C\n",
      "D\n",
      "2\n",
      "3\n",
      "E\n",
      "4\n",
      "5\n",
      "Program terminated.\n"
     ]
    }
   ],
   "source": [
    "import threading\n",
    "import time\n",
    "\n",
    "mutex = threading.Lock()\n",
    "\n",
    "def function_A():\n",
    "    for num in range(1, 6):\n",
    "        with mutex:\n",
    "            print(num)\n",
    "            time.sleep(0.5)\n",
    "\n",
    "def function_B():\n",
    "    for char in ['A', 'B', 'C', 'D', 'E']:\n",
    "        with mutex:\n",
    "            print(char)\n",
    "            time.sleep(0.5)\n",
    "\n",
    "thread_A = threading.Thread(target=function_A)\n",
    "thread_B = threading.Thread(target=function_B)\n",
    "\n",
    "thread_A.start()\n",
    "thread_B.start()\n",
    "\n",
    "thread_A.join()\n",
    "thread_B.join()\n",
    "\n",
    "print(\"Program terminated.\")"
   ]
  }
 ],
 "metadata": {
  "kernelspec": {
   "display_name": "Python 3",
   "language": "python",
   "name": "python3"
  },
  "language_info": {
   "codemirror_mode": {
    "name": "ipython",
    "version": 3
   },
   "file_extension": ".py",
   "mimetype": "text/x-python",
   "name": "python",
   "nbconvert_exporter": "python",
   "pygments_lexer": "ipython3",
   "version": "3.11.2"
  }
 },
 "nbformat": 4,
 "nbformat_minor": 2
}
