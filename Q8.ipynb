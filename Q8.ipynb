{
 "cells": [
  {
   "cell_type": "code",
   "execution_count": 1,
   "metadata": {},
   "outputs": [
    {
     "name": "stdout",
     "output_type": "stream",
     "text": [
      "Thread 1: Generated 78\n",
      "Thread 2: Square: 6084\n",
      "Thread 1: Generated 98\n",
      "Thread 2: Square: 9604\n",
      "Thread 1: Generated 4\n",
      "Thread 2: Square: 16\n",
      "Thread 1: Generated 67\n",
      "Thread 3: Cube: 300763\n",
      "Thread 1: Generated 85\n",
      "Thread 3: Cube: 614125\n",
      "Thread 1: Generated 88\n",
      "Thread 2: Square: 7744\n",
      "Thread 1: Generated 96\n",
      "Thread 2: Square: 9216\n",
      "Thread 1: Generated 77\n",
      "Thread 3: Cube: 456533\n",
      "Thread 1: Generated 19\n",
      "Thread 3: Cube: 6859\n",
      "Thread 1: Generated 64\n",
      "Thread 2: Square: 4096\n",
      "Program stopped after 10 iterations.\n"
     ]
    }
   ],
   "source": [
    "import threading\n",
    "import random\n",
    "import time\n",
    "\n",
    "iterations = 10\n",
    "\n",
    "def generate_and_print():\n",
    "    for _ in range(iterations):\n",
    "        value = random.randint(1, 100)\n",
    "        print(f\"Thread 1: Generated {value}\")\n",
    "        if value % 2 == 0:\n",
    "            square_thread(value)\n",
    "        else:\n",
    "            cube_thread(value)\n",
    "        time.sleep(1)\n",
    "\n",
    "def square_thread(value):\n",
    "    print(f\"Thread 2: Square: {value ** 2}\")\n",
    "\n",
    "def cube_thread(value):\n",
    "    print(f\"Thread 3: Cube: {value ** 3}\")\n",
    "\n",
    "thread1 = threading.Thread(target=generate_and_print)\n",
    "thread1.start()\n",
    "thread1.join()\n",
    "print(\"Program stopped after\", iterations, \"iterations.\")"
   ]
  }
 ],
 "metadata": {
  "kernelspec": {
   "display_name": "Python 3",
   "language": "python",
   "name": "python3"
  },
  "language_info": {
   "codemirror_mode": {
    "name": "ipython",
    "version": 3
   },
   "file_extension": ".py",
   "mimetype": "text/x-python",
   "name": "python",
   "nbconvert_exporter": "python",
   "pygments_lexer": "ipython3",
   "version": "3.11.2"
  }
 },
 "nbformat": 4,
 "nbformat_minor": 2
}
