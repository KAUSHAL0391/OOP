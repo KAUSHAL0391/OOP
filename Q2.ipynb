{
 "cells": [
  {
   "cell_type": "markdown",
   "metadata": {},
   "source": [
    "Q2 A"
   ]
  },
  {
   "cell_type": "code",
   "execution_count": 1,
   "metadata": {},
   "outputs": [
    {
     "name": "stdout",
     "output_type": "stream",
     "text": [
      "may god bless you,\n",
      "have a sunshine on you,\n",
      "happy birthday to you!\n"
     ]
    }
   ],
   "source": [
    "class songs:\n",
    "  def __init__(self,lyrics):\n",
    "    self.lyrics=lyrics\n",
    "  def sing_me_a_song(self):\n",
    "    for i in self.lyrics:\n",
    "      print(i)\n",
    "happy_bday=songs([\"may god bless you,\",\"have a sunshine on you,\",\"happy birthday to you!\"])\n",
    "happy_bday.sing_me_a_song()"
   ]
  },
  {
   "cell_type": "markdown",
   "metadata": {},
   "source": [
    "Q2 B"
   ]
  },
  {
   "cell_type": "code",
   "execution_count": 2,
   "metadata": {},
   "outputs": [
    {
     "name": "stdout",
     "output_type": "stream",
     "text": [
      "WOOF!\n",
      "abc\n",
      "Bad\n",
      "2018\n",
      "42\n"
     ]
    }
   ],
   "source": [
    "class dog:\n",
    "  def __init__(self,name,size,breed='unknown',dob='unknown'):\n",
    "    self.name=name\n",
    "    self.size=size\n",
    "    self.breed=breed\n",
    "    self.dob=dob\n",
    "  def bark(self):\n",
    "    print(\"WOOF!\")\n",
    "  def get_name(self):\n",
    "    return self.name\n",
    "  def set_name(self,new):\n",
    "    if len(new)>2 and len(new)<30:\n",
    "      self.name=new.title()\n",
    "    else:\n",
    "      print(\"Length does not satisfy\")\n",
    "    return self.name\n",
    "  def dog_years(self):\n",
    "    if self.dob!='unknown':\n",
    "      yob=self.dob[4:]\n",
    "      year=int(yob)\n",
    "      cur_year=2024\n",
    "      print(year)\n",
    "      age=(cur_year-year)*7\n",
    "      print(age)\n",
    "    else:\n",
    "      print(\"DOB is unknown\")\n",
    "d=dog('abc',32,'pomeranian','01012018')\n",
    "d.bark()\n",
    "print(d.get_name())\n",
    "print(d.set_name('bad'))\n",
    "d.dog_years()"
   ]
  }
 ],
 "metadata": {
  "kernelspec": {
   "display_name": "Python 3",
   "language": "python",
   "name": "python3"
  },
  "language_info": {
   "codemirror_mode": {
    "name": "ipython",
    "version": 3
   },
   "file_extension": ".py",
   "mimetype": "text/x-python",
   "name": "python",
   "nbconvert_exporter": "python",
   "pygments_lexer": "ipython3",
   "version": "3.11.2"
  }
 },
 "nbformat": 4,
 "nbformat_minor": 2
}
