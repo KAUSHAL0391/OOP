{
 "cells": [
  {
   "cell_type": "markdown",
   "metadata": {},
   "source": [
    "Q5 A"
   ]
  },
  {
   "cell_type": "code",
   "execution_count": 1,
   "metadata": {},
   "outputs": [
    {
     "name": "stdout",
     "output_type": "stream",
     "text": [
      "Name:abc Age:45\n",
      "Number of Years:10\n",
      "Empid:123\n"
     ]
    }
   ],
   "source": [
    "class person:\n",
    "  def __init__(self,name,age):\n",
    "    self.name=name\n",
    "    self.age=age\n",
    "  def displayperson(self):\n",
    "    print(f\"Name:{self.name} Age:{self.age}\")\n",
    "class company:\n",
    "  def __init__(self,years):\n",
    "    self.years=years\n",
    "  def displaycompany(self):\n",
    "    print(f\"Number of Years:{self.years}\")\n",
    "class employee(person,company):\n",
    "  def __init__(self,name,age,years,empid):\n",
    "    person.__init__(self,name,age)\n",
    "    company.__init__(self,years)\n",
    "    self.empid=empid\n",
    "  def displayemp(self):\n",
    "    person.displayperson(self)\n",
    "    company.displaycompany(self)\n",
    "    print(f\"Empid:{self.empid}\")\n",
    "obj=employee(\"abc\",45,10,123)\n",
    "obj.displayemp()\n"
   ]
  },
  {
   "cell_type": "markdown",
   "metadata": {},
   "source": [
    "Q5 B"
   ]
  },
  {
   "cell_type": "code",
   "execution_count": 2,
   "metadata": {},
   "outputs": [
    {
     "name": "stdout",
     "output_type": "stream",
     "text": [
      "Vehicle: Ferrari 488 GTB\n",
      "Number of Doors: 2\n",
      "Top Speed: 205 mph\n"
     ]
    }
   ],
   "source": [
    "class Vehicle:\n",
    "    def __init__(self, brand, model):\n",
    "        self.brand = brand\n",
    "        self.model = model\n",
    "\n",
    "    def display_info(self):\n",
    "        print(f\"Vehicle: {self.brand} {self.model}\")\n",
    "\n",
    "\n",
    "class Car(Vehicle):\n",
    "    def __init__(self, brand, model, num_doors):\n",
    "        super().__init__(brand, model)\n",
    "        self.num_doors = num_doors\n",
    "\n",
    "    def display_info(self):\n",
    "        super().display_info()\n",
    "        print(f\"Number of Doors: {self.num_doors}\")\n",
    "\n",
    "\n",
    "class SportsCar(Car):\n",
    "    def __init__(self, brand, model, num_doors, top_speed):\n",
    "        super().__init__(brand, model, num_doors)\n",
    "        self.top_speed = top_speed\n",
    "\n",
    "    def display_info(self):\n",
    "        super().display_info()\n",
    "        print(f\"Top Speed: {self.top_speed} mph\")\n",
    "\n",
    "sports_car = SportsCar(\"Ferrari\", \"488 GTB\",2,205)\n",
    "sports_car.display_info()\n"
   ]
  }
 ],
 "metadata": {
  "kernelspec": {
   "display_name": "Python 3",
   "language": "python",
   "name": "python3"
  },
  "language_info": {
   "codemirror_mode": {
    "name": "ipython",
    "version": 3
   },
   "file_extension": ".py",
   "mimetype": "text/x-python",
   "name": "python",
   "nbconvert_exporter": "python",
   "pygments_lexer": "ipython3",
   "version": "3.11.2"
  }
 },
 "nbformat": 4,
 "nbformat_minor": 2
}
