{
 "cells": [
  {
   "cell_type": "markdown",
   "metadata": {},
   "source": [
    "Q6 A"
   ]
  },
  {
   "cell_type": "code",
   "execution_count": 3,
   "metadata": {},
   "outputs": [
    {
     "name": "stdout",
     "output_type": "stream",
     "text": [
      "Father's age: 45\n",
      "Son's age: 20\n"
     ]
    }
   ],
   "source": [
    "class WrongAge(Exception):\n",
    "    pass\n",
    "class AgeInvalid(Exception):\n",
    "    pass\n",
    "class Father:\n",
    "    def __init__(self, age):\n",
    "        if age < 0:\n",
    "            raise WrongAge(\"Age cannot be negative\")\n",
    "        self.age = age\n",
    "class Son(Father):\n",
    "    def __init__(self, father_age, son_age):\n",
    "        super().__init__(father_age)\n",
    "        if son_age >= father_age:\n",
    "            raise AgeInvalid(\"Son's age should be less than Father's age\")\n",
    "        self.son_age = son_age\n",
    "\n",
    "try:\n",
    "    father_age = int(input(\"Enter Father's age: \"))\n",
    "    son_age = int(input(\"Enter Son's age: \"))\n",
    "    son_instance = Son(father_age, son_age)\n",
    "    print(\"Father's age:\", father_age)\n",
    "    print(\"Son's age:\", son_age)\n",
    "except WrongAge as wa:\n",
    "    print(f\"Error: {wa}\")\n",
    "except AgeInvalid as ai:\n",
    "    print(f\"Error: {ai}\")"
   ]
  },
  {
   "cell_type": "markdown",
   "metadata": {},
   "source": [
    "Q6 B"
   ]
  },
  {
   "cell_type": "code",
   "execution_count": 5,
   "metadata": {},
   "outputs": [
    {
     "name": "stdout",
     "output_type": "stream",
     "text": [
      "Result: 2.0\n"
     ]
    }
   ],
   "source": [
    "class FormulaError(Exception):\n",
    "    pass\n",
    "def calculate(formula):\n",
    "    try:\n",
    "        elements = formula.split()\n",
    "        if len(elements) != 3:\n",
    "            raise FormulaError(\"Invalid input: Must consist of 3 elements\")\n",
    "        num1 = float(elements[0])\n",
    "        operator = elements[1]\n",
    "        num2 = float(elements[2])\n",
    "        if operator not in [\"+\", \"-\"]:\n",
    "            raise FormulaError(\"Invalid operator: Use only '+' or '-'\")\n",
    "        if operator == \"+\":\n",
    "            result = num1 + num2\n",
    "        else:\n",
    "            result = num1 - num2\n",
    "        print(\"Result:\", result)\n",
    "    except ValueError:\n",
    "        raise FormulaError(\"Invalid input: Unable to convert to float\")\n",
    "\n",
    "while True:\n",
    "    user_input = input(\"Enter a formula (or 'quit' to exit): \").strip()\n",
    "    if user_input.lower() == \"quit\":\n",
    "        break\n",
    "    try:\n",
    "        calculate(user_input)\n",
    "    except FormulaError as fe:\n",
    "        print(f\"Error: {fe}\")"
   ]
  },
  {
   "cell_type": "markdown",
   "metadata": {},
   "source": [
    "Q7"
   ]
  },
  {
   "cell_type": "code",
   "execution_count": 6,
   "metadata": {},
   "outputs": [
    {
     "name": "stdout",
     "output_type": "stream",
     "text": [
      "pygame 2.5.0 (SDL 2.28.0, Python 3.11.2)\n",
      "Hello from the pygame community. https://www.pygame.org/contribute.html\n"
     ]
    },
    {
     "ename": "SystemExit",
     "evalue": "",
     "output_type": "error",
     "traceback": [
      "An exception has occurred, use %tb to see the full traceback.\n",
      "\u001b[1;31mSystemExit\u001b[0m\n"
     ]
    },
    {
     "name": "stderr",
     "output_type": "stream",
     "text": [
      "c:\\Users\\Kaushal\\AppData\\Local\\Programs\\Python\\Python311\\Lib\\site-packages\\IPython\\core\\interactiveshell.py:3468: UserWarning: To exit: use 'exit', 'quit', or Ctrl-D.\n",
      "  warn(\"To exit: use 'exit', 'quit', or Ctrl-D.\", stacklevel=1)\n"
     ]
    }
   ],
   "source": [
    "import pygame\n",
    "import sys\n",
    "\n",
    "pygame.init()\n",
    "\n",
    "width, height = 400, 400\n",
    "screen = pygame.display.set_mode((width, height))\n",
    "pygame.display.set_caption(\"Shapes Drawing\")\n",
    "\n",
    "blue, green, black = (0, 0, 255), (0, 255, 0), (0, 0, 0)\n",
    "\n",
    "while True:\n",
    "    for e in pygame.event.get():\n",
    "        if e.type == pygame.QUIT:\n",
    "            pygame.quit(), sys.exit()\n",
    "\n",
    "    screen.fill((255, 255, 255))\n",
    "    pygame.draw.polygon(\n",
    "        screen, blue, [(146, 0), (291, 106), (236, 277), (56, 277), (0, 106)]\n",
    "    )\n",
    "    pygame.draw.line(screen, green, (60, 300), (120, 300), 4)\n",
    "    pygame.draw.circle(screen, green, (300, 50), 20)\n",
    "    pygame.draw.ellipse(screen, black, (300, 250, 40, 80), 1)\n",
    "    pygame.draw.rect(screen, black, (150, 300, 100, 50))\n",
    "    pygame.display.flip()\n",
    "    pygame.time.Clock().tick(30)"
   ]
  },
  {
   "cell_type": "markdown",
   "metadata": {},
   "source": [
    "Q8"
   ]
  },
  {
   "cell_type": "code",
   "execution_count": 7,
   "metadata": {},
   "outputs": [
    {
     "name": "stdout",
     "output_type": "stream",
     "text": [
      "Thread 1: Generated 28\n",
      "Thread 2: Square: 784\n",
      "Thread 1: Generated 5\n",
      "Thread 3: Cube: 125\n",
      "Thread 1: Generated 5\n",
      "Thread 3: Cube: 125\n",
      "Thread 1: Generated 80\n",
      "Thread 2: Square: 6400\n",
      "Thread 1: Generated 21\n",
      "Thread 3: Cube: 9261\n",
      "Thread 1: Generated 83\n",
      "Thread 3: Cube: 571787\n",
      "Thread 1: Generated 63\n",
      "Thread 3: Cube: 250047\n",
      "Thread 1: Generated 93\n",
      "Thread 3: Cube: 804357\n",
      "Thread 1: Generated 29\n",
      "Thread 3: Cube: 24389\n",
      "Thread 1: Generated 62\n",
      "Thread 2: Square: 3844\n",
      "Program stopped after 10 iterations.\n"
     ]
    }
   ],
   "source": [
    "import threading\n",
    "import random\n",
    "import time\n",
    "\n",
    "iterations = 10\n",
    "\n",
    "def generate_and_print():\n",
    "    for _ in range(iterations):\n",
    "        value = random.randint(1, 100)\n",
    "        print(f\"Thread 1: Generated {value}\")\n",
    "        if value % 2 == 0:\n",
    "            square_thread(value)\n",
    "        else:\n",
    "            cube_thread(value)\n",
    "        time.sleep(1)\n",
    "\n",
    "def square_thread(value):\n",
    "    print(f\"Thread 2: Square: {value ** 2}\")\n",
    "\n",
    "def cube_thread(value):\n",
    "    print(f\"Thread 3: Cube: {value ** 3}\")\n",
    "\n",
    "thread1 = threading.Thread(target=generate_and_print)\n",
    "thread1.start()\n",
    "thread1.join()\n",
    "print(\"Program stopped after\", iterations, \"iterations.\")"
   ]
  },
  {
   "cell_type": "markdown",
   "metadata": {},
   "source": [
    "Q9\n"
   ]
  },
  {
   "cell_type": "code",
   "execution_count": 11,
   "metadata": {},
   "outputs": [
    {
     "name": "stdout",
     "output_type": "stream",
     "text": [
      "Farmer 0 produced Cabbage\n",
      "Consumer 0 is waiting for Carrot\n",
      "Farmer 2 produced Cabbage\n",
      "Consumer 2 purchased Cabbage from Farmer 2\n",
      "Farmer 1 produced Carrot\n",
      "Consumer 3 is waiting for Cabbage\n",
      "Farmer 0 produced Cabbage\n",
      "Consumer 4 purchased Cabbage from Farmer 0\n",
      "Farmer 1 produced Carrot\n",
      "Farmer 2 produced Cabbage\n",
      "Simulation finished.\n"
     ]
    }
   ],
   "source": [
    "import threading\n",
    "import time\n",
    "import queue\n",
    "import random\n",
    "\n",
    "class VegetableMarket:\n",
    "    def __init__(self, capacity):\n",
    "        self.capacity = capacity\n",
    "        self.vegetable_queue = queue.Queue(maxsize=capacity)\n",
    "        self.stop_simulation = False\n",
    "        self.lock = threading.Lock()\n",
    "\n",
    "    def farmer_produce(self, farmer_id, vegetable_type):\n",
    "        while not self.stop_simulation:\n",
    "            time.sleep(random.uniform(1, 3))\n",
    "            with self.lock:\n",
    "                if not self.vegetable_queue.full():\n",
    "                    self.vegetable_queue.put((farmer_id, vegetable_type))\n",
    "                    print(f\"Farmer {farmer_id} produced {vegetable_type}\")\n",
    "\n",
    "    def consumer_purchase(self, consumer_id, desired_vegetable):\n",
    "        while not self.stop_simulation:\n",
    "            with self.lock:\n",
    "                try:\n",
    "                    farmer_id, vegetable_type = self.vegetable_queue.get(timeout=1)\n",
    "                    if vegetable_type == desired_vegetable:\n",
    "                        print(\n",
    "                            f\"Consumer {consumer_id} purchased {vegetable_type} from Farmer {farmer_id}\"\n",
    "                        )\n",
    "                        return\n",
    "                    else:\n",
    "                        print(\n",
    "                            f\"Consumer {consumer_id} is waiting for {desired_vegetable}\"\n",
    "                        )\n",
    "                except queue.Empty:\n",
    "                    pass\n",
    "\n",
    "market = VegetableMarket(capacity=5)\n",
    "\n",
    "farmers = []\n",
    "for farmer_id in range(3):\n",
    "    vegetable_type = random.choice([\"Tomato\", \"Carrot\", \"Cabbage\"])\n",
    "    farmer_thread = threading.Thread(\n",
    "        target=market.farmer_produce, args=(farmer_id, vegetable_type)\n",
    "    )\n",
    "    farmers.append(farmer_thread)\n",
    "    farmer_thread.start()\n",
    "\n",
    "consumers = []\n",
    "for consumer_id in range(5):\n",
    "    desired_vegetable = random.choice([\"Tomato\", \"Carrot\", \"Cabbage\"])\n",
    "    consumer_thread = threading.Thread(\n",
    "        target=market.consumer_purchase, args=(consumer_id, desired_vegetable)\n",
    "    )\n",
    "    consumers.append(consumer_thread)\n",
    "    consumer_thread.start()\n",
    "\n",
    "time.sleep(20)\n",
    "\n",
    "market.stop_simulation = True\n",
    "\n",
    "for farmer_thread in farmers:\n",
    "    farmer_thread.join()\n",
    "\n",
    "for consumer_thread in consumers:\n",
    "    consumer_thread.join()\n",
    "\n",
    "print(\"Simulation finished.\")"
   ]
  },
  {
   "cell_type": "markdown",
   "metadata": {},
   "source": [
    "Q10"
   ]
  },
  {
   "cell_type": "code",
   "execution_count": 1,
   "metadata": {},
   "outputs": [
    {
     "name": "stdout",
     "output_type": "stream",
     "text": [
      "1\n",
      "A\n",
      "B\n",
      "C\n",
      "D\n",
      "E\n",
      "2\n",
      "3\n",
      "4\n",
      "5\n",
      "Program terminated.\n"
     ]
    }
   ],
   "source": [
    "import threading\n",
    "import time\n",
    "\n",
    "mutex = threading.Lock()\n",
    "\n",
    "def function_A():\n",
    "    for num in range(1, 6):\n",
    "        with mutex:\n",
    "            print(num)\n",
    "            time.sleep(0.5)\n",
    "\n",
    "def function_B():\n",
    "    for char in ['A', 'B', 'C', 'D', 'E']:\n",
    "        with mutex:\n",
    "            print(char)\n",
    "            time.sleep(0.5)\n",
    "\n",
    "thread_A = threading.Thread(target=function_A)\n",
    "thread_B = threading.Thread(target=function_B)\n",
    "\n",
    "thread_A.start()\n",
    "thread_B.start()\n",
    "\n",
    "thread_A.join()\n",
    "thread_B.join()\n",
    "\n",
    "print(\"Program terminated.\")"
   ]
  }
 ],
 "metadata": {
  "kernelspec": {
   "display_name": "Python 3",
   "language": "python",
   "name": "python3"
  },
  "language_info": {
   "codemirror_mode": {
    "name": "ipython",
    "version": 3
   },
   "file_extension": ".py",
   "mimetype": "text/x-python",
   "name": "python",
   "nbconvert_exporter": "python",
   "pygments_lexer": "ipython3",
   "version": "3.11.2"
  }
 },
 "nbformat": 4,
 "nbformat_minor": 2
}
