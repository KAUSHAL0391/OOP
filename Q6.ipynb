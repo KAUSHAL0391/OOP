{
 "cells": [
  {
   "cell_type": "markdown",
   "metadata": {},
   "source": [
    "Q6 A"
   ]
  },
  {
   "cell_type": "code",
   "execution_count": 2,
   "metadata": {},
   "outputs": [
    {
     "name": "stdout",
     "output_type": "stream",
     "text": [
      "Father's age: 42\n",
      "Son's age: 32\n"
     ]
    }
   ],
   "source": [
    "class WrongAge(Exception):\n",
    "    pass\n",
    "class AgeInvalid(Exception):\n",
    "    pass\n",
    "class Father:\n",
    "    def __init__(self, age):\n",
    "        if age < 0:\n",
    "            raise WrongAge(\"Age cannot be negative\")\n",
    "        self.age = age\n",
    "class Son(Father):\n",
    "    def __init__(self, father_age, son_age):\n",
    "        super().__init__(father_age)\n",
    "        if son_age >= father_age:\n",
    "            raise AgeInvalid(\"Son's age should be less than Father's age\")\n",
    "        self.son_age = son_age\n",
    "\n",
    "try:\n",
    "    father_age = int(input(\"Enter Father's age: \"))\n",
    "    son_age = int(input(\"Enter Son's age: \"))\n",
    "    son_instance = Son(father_age, son_age)\n",
    "    print(\"Father's age:\", father_age)\n",
    "    print(\"Son's age:\", son_age)\n",
    "except WrongAge as wa:\n",
    "    print(f\"Error: {wa}\")\n",
    "except AgeInvalid as ai:\n",
    "    print(f\"Error: {ai}\")"
   ]
  },
  {
   "cell_type": "markdown",
   "metadata": {},
   "source": [
    "Q6 B"
   ]
  },
  {
   "cell_type": "code",
   "execution_count": 3,
   "metadata": {},
   "outputs": [
    {
     "name": "stdout",
     "output_type": "stream",
     "text": [
      "Result: 2.0\n",
      "Result: 4.0\n"
     ]
    }
   ],
   "source": [
    "class FormulaError(Exception):\n",
    "    pass\n",
    "def calculate(formula):\n",
    "    try:\n",
    "        elements = formula.split()\n",
    "        if len(elements) != 3:\n",
    "            raise FormulaError(\"Invalid input: Must consist of 3 elements\")\n",
    "        num1 = float(elements[0])\n",
    "        operator = elements[1]\n",
    "        num2 = float(elements[2])\n",
    "        if operator not in [\"+\", \"-\"]:\n",
    "            raise FormulaError(\"Invalid operator: Use only '+' or '-'\")\n",
    "        if operator == \"+\":\n",
    "            result = num1 + num2\n",
    "        else:\n",
    "            result = num1 - num2\n",
    "        print(\"Result:\", result)\n",
    "    except ValueError:\n",
    "        raise FormulaError(\"Invalid input: Unable to convert to float\")\n",
    "\n",
    "while True:\n",
    "    user_input = input(\"Enter a formula (or 'quit' to exit): \").strip()\n",
    "    if user_input.lower() == \"quit\":\n",
    "        break\n",
    "    try:\n",
    "        calculate(user_input)\n",
    "    except FormulaError as fe:\n",
    "        print(f\"Error: {fe}\")"
   ]
  }
 ],
 "metadata": {
  "kernelspec": {
   "display_name": "Python 3",
   "language": "python",
   "name": "python3"
  },
  "language_info": {
   "codemirror_mode": {
    "name": "ipython",
    "version": 3
   },
   "file_extension": ".py",
   "mimetype": "text/x-python",
   "name": "python",
   "nbconvert_exporter": "python",
   "pygments_lexer": "ipython3",
   "version": "3.11.2"
  }
 },
 "nbformat": 4,
 "nbformat_minor": 2
}
