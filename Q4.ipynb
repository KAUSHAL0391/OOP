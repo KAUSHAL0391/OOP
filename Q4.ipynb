{
 "cells": [
  {
   "cell_type": "code",
   "execution_count": 1,
   "metadata": {},
   "outputs": [
    {
     "name": "stdout",
     "output_type": "stream",
     "text": [
      "Sedan mileage: 25 miles per gallon\n",
      "SUV mileage: 20 miles per gallon\n",
      "Electric car mileage: 100 miles per charge\n"
     ]
    }
   ],
   "source": [
    "from abc import ABC, abstractmethod\n",
    "class car(ABC):\n",
    "    @abstractmethod\n",
    "    def mileage(self):\n",
    "        pass\n",
    "class sedan(car):\n",
    "    def mileage(self):\n",
    "        print(\"Sedan mileage: 25 miles per gallon\")\n",
    "class SUV(car):\n",
    "    def mileage(self):\n",
    "        print(\"SUV mileage: 20 miles per gallon\")\n",
    "class ec(car):\n",
    "    def mileage(self):\n",
    "        print(\"Electric car mileage: 100 miles per charge\")\n",
    "h1=sedan()\n",
    "h1.mileage()\n",
    "n1=SUV()\n",
    "n1.mileage()\n",
    "a1=ec()\n",
    "a1.mileage()"
   ]
  }
 ],
 "metadata": {
  "kernelspec": {
   "display_name": "Python 3",
   "language": "python",
   "name": "python3"
  },
  "language_info": {
   "codemirror_mode": {
    "name": "ipython",
    "version": 3
   },
   "file_extension": ".py",
   "mimetype": "text/x-python",
   "name": "python",
   "nbconvert_exporter": "python",
   "pygments_lexer": "ipython3",
   "version": "3.11.2"
  }
 },
 "nbformat": 4,
 "nbformat_minor": 2
}
