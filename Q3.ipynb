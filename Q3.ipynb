{
 "cells": [
  {
   "cell_type": "markdown",
   "metadata": {},
   "source": [
    "Q3 A"
   ]
  },
  {
   "cell_type": "code",
   "execution_count": 1,
   "metadata": {},
   "outputs": [
    {
     "name": "stdout",
     "output_type": "stream",
     "text": [
      "abc is working\n",
      "abc's Salary:\n",
      "1200\n"
     ]
    }
   ],
   "source": [
    "class employee:\n",
    "  def __init__(self,name,salary):\n",
    "    self.name=name\n",
    "    self.__salary=salary\n",
    "  def work(self):\n",
    "    print(f\"{self.name} is working\")\n",
    "  def getsal(self):\n",
    "    return self.__salary\n",
    "  def show(self):\n",
    "    print(f\"{self.name}'s Salary:\")\n",
    "    print(self.getsal())\n",
    "a=employee('abc',1200)\n",
    "a.work()\n",
    "a.show()"
   ]
  },
  {
   "cell_type": "markdown",
   "metadata": {},
   "source": [
    "Q3 B"
   ]
  },
  {
   "cell_type": "code",
   "execution_count": 2,
   "metadata": {},
   "outputs": [
    {
     "name": "stdout",
     "output_type": "stream",
     "text": [
      "Successful! New Balance=500\n",
      "Successful! New Balance=400\n",
      "Balance:400\n"
     ]
    }
   ],
   "source": [
    "class credit:\n",
    "  def __init__(self,limit):\n",
    "    self.__limit=limit\n",
    "    self.__bal=0\n",
    "  def getbalance(self):\n",
    "    return(f\"Balance:{self.__bal}\")\n",
    "  def withdraw(self,amt):\n",
    "    if amt>0:\n",
    "      if amt>self.__bal:\n",
    "        print(\"Failed\")\n",
    "      else:\n",
    "        self.__bal=self.__bal-amt\n",
    "        print(f\"Successful! New Balance={self.__bal}\")\n",
    "    else:\n",
    "      print(\"Failed\")\n",
    "  def deposit(self,amt):\n",
    "    if amt>0:\n",
    "        self.__bal=self.__bal+amt\n",
    "        print(f\"Successful! New Balance={self.__bal}\")\n",
    "    else:\n",
    "      print(\"Failed\")\n",
    "obj=credit(1000)\n",
    "obj.deposit(500)\n",
    "obj.withdraw(100)\n",
    "print(obj.getbalance())"
   ]
  }
 ],
 "metadata": {
  "kernelspec": {
   "display_name": "Python 3",
   "language": "python",
   "name": "python3"
  },
  "language_info": {
   "codemirror_mode": {
    "name": "ipython",
    "version": 3
   },
   "file_extension": ".py",
   "mimetype": "text/x-python",
   "name": "python",
   "nbconvert_exporter": "python",
   "pygments_lexer": "ipython3",
   "version": "3.11.2"
  }
 },
 "nbformat": 4,
 "nbformat_minor": 2
}
